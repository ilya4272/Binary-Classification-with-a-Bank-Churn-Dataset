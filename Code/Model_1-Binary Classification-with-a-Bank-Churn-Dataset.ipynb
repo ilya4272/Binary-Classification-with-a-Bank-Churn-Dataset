{
 "cells": [
  {
   "cell_type": "code",
   "execution_count": 5,
   "metadata": {},
   "outputs": [],
   "source": [
    "# Import Libraries\n",
    "\n",
    "import pandas as pd\n",
    "import numpy as np\n",
    "import os\n",
    "\n",
    "from config import *"
   ]
  },
  {
   "cell_type": "code",
   "execution_count": 9,
   "metadata": {},
   "outputs": [],
   "source": [
    "from kaggle.api.kaggle_api_extended import KaggleApi\n",
    "from config import path_1  # config.py'den path_1 değişkenini import et\n",
    "\n",
    "api = KaggleApi()\n",
    "api.authenticate()\n",
    "\n",
    "competition = 'playground-series-s4e1'\n",
    "api.competition_download_files(competition, path=path_1)\n"
   ]
  },
  {
   "cell_type": "code",
   "execution_count": 10,
   "metadata": {},
   "outputs": [
    {
     "name": "stdout",
     "output_type": "stream",
     "text": [
      "Dosyalar başarıyla C://Users//ilyas//Documents//Data_Science//Projects//Kaggle//Classification//Project_1//Raw_Data//Model_1-Binary_Classification_with_a_Bank_Churn_Dataset dizinine çıkartıldı.\n"
     ]
    }
   ],
   "source": [
    "import zipfile\n",
    "import os\n",
    "from config import path_1  # path_1'in config.py'den yüklendiğinden emin olun\n",
    "\n",
    "# İndirilen zip dosyasının tam yolu\n",
    "zip_file_path = os.path.join(path_1, 'playground-series-s4e1.zip')  # Burada dosya adını doğru şekilde belirtin\n",
    "\n",
    "# Zip dosyasının içeriğini mevcut dizine çıkart\n",
    "with zipfile.ZipFile(zip_file_path, 'r') as zip_ref:\n",
    "    zip_ref.extractall(path_1)\n",
    "\n",
    "print(f\"Dosyalar başarıyla dizinine çıkartıldı.\")\n"
   ]
  }
 ],
 "metadata": {
  "kernelspec": {
   "display_name": "ml_pred",
   "language": "python",
   "name": "python3"
  },
  "language_info": {
   "codemirror_mode": {
    "name": "ipython",
    "version": 3
   },
   "file_extension": ".py",
   "mimetype": "text/x-python",
   "name": "python",
   "nbconvert_exporter": "python",
   "pygments_lexer": "ipython3",
   "version": "3.11.5"
  }
 },
 "nbformat": 4,
 "nbformat_minor": 2
}
